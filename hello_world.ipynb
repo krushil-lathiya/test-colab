{
  "nbformat": 4,
  "nbformat_minor": 0,
  "metadata": {
    "colab": {
      "provenance": [],
      "authorship_tag": "ABX9TyOSqtQD2q4ye164VsJ+vjIV",
      "include_colab_link": true
    },
    "kernelspec": {
      "name": "python3",
      "display_name": "Python 3"
    },
    "language_info": {
      "name": "python"
    }
  },
  "cells": [
    {
      "cell_type": "markdown",
      "metadata": {
        "id": "view-in-github",
        "colab_type": "text"
      },
      "source": [
        "<a href=\"https://colab.research.google.com/github/krushil-lathiya/test-colab/blob/main/hello_world.ipynb\" target=\"_parent\"><img src=\"https://colab.research.google.com/assets/colab-badge.svg\" alt=\"Open In Colab\"/></a>"
      ]
    },
    {
      "cell_type": "code",
      "execution_count": 1,
      "metadata": {
        "colab": {
          "base_uri": "https://localhost:8080/"
        },
        "id": "k2Wnrb07OTtK",
        "outputId": "12787a0c-8cb5-43ce-8db8-ef06866b960c"
      },
      "outputs": [
        {
          "output_type": "stream",
          "name": "stdout",
          "text": [
            "hii kk\n"
          ]
        }
      ],
      "source": [
        "print(\"hii kk\")"
      ]
    },
    {
      "cell_type": "code",
      "source": [
        "print(\"git hub\")"
      ],
      "metadata": {
        "id": "hyw3xmWCRUYQ",
        "outputId": "93b2957f-410f-4328-ea4b-8189dd47e82b",
        "colab": {
          "base_uri": "https://localhost:8080/"
        }
      },
      "execution_count": 2,
      "outputs": [
        {
          "output_type": "stream",
          "name": "stdout",
          "text": [
            "git hub\n"
          ]
        }
      ]
    }
  ]
}